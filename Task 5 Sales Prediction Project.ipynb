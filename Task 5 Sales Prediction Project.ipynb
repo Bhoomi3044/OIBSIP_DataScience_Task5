{
 "cells": [
  {
   "cell_type": "markdown",
   "id": "f5253cfc",
   "metadata": {},
   "source": [
    "# 📊 Sales Prediction using Advertising Data\n\n",
    "## 🧩 Problem Statement\n",
    "The goal of this project is to predict **product sales** based on advertising budgets across different platforms.\n",
    "We’ll use a machine learning regression model to estimate sales based on how much is spent on **TV, Radio, and Newspaper ads**.\n",
    "This type of model is useful for businesses to optimize advertising strategies and maximize ROI."
   ]
  },
  {
   "cell_type": "code",
   "execution_count": null,
   "id": "75df33cd",
   "metadata": {},
   "outputs": [],
   "source": [
    "# 📥 Step 1: Import Libraries and Load Data\n",
    "import pandas as pd\n",
    "import matplotlib.pyplot as plt\n",
    "import seaborn as sns\n",
    "\n",
    "# Load the dataset\n",
    "df = pd.read_csv('Advertising.csv')\n",
    "df.head()"
   ]
  },
  {
   "cell_type": "code",
   "execution_count": null,
   "id": "a73a21d2",
   "metadata": {},
   "outputs": [],
   "source": [
    "# 🧹 Step 2: Explore and Clean Data\n",
    "print(df.info())\n",
    "print(\"\\nMissing values:\\n\", df.isnull().sum())\n",
    "print(\"\\nSummary Statistics:\\n\", df.describe())"
   ]
  },
  {
   "cell_type": "code",
   "execution_count": null,
   "id": "b6706aac",
   "metadata": {},
   "outputs": [],
   "source": [
    "# 📊 Step 3: Visualize Relationships\n",
    "sns.heatmap(df.corr(), annot=True, cmap='coolwarm')\n",
    "plt.title(\"Correlation Matrix\")\n",
    "plt.show()\n",
    "\n",
    "sns.pairplot(df, x_vars=['TV', 'Radio', 'Newspaper'], y_vars='Sales', height=4, aspect=1, kind='scatter')\n",
    "plt.suptitle(\"Ad Spend vs Sales\", y=1.02)\n",
    "plt.show()"
   ]
  },
  {
   "cell_type": "code",
   "execution_count": null,
   "id": "a5bc310a",
   "metadata": {},
   "outputs": [],
   "source": [
    "# ✂️ Step 4: Prepare Data for Machine Learning\n",
    "from sklearn.model_selection import train_test_split\n",
    "\n",
    "X = df[['TV', 'Radio', 'Newspaper']]\n",
    "y = df['Sales']\n",
    "\n",
    "X_train, X_test, y_train, y_test = train_test_split(X, y, test_size=0.2, random_state=0)"
   ]
  },
  {
   "cell_type": "code",
   "execution_count": null,
   "id": "8c3b4834",
   "metadata": {},
   "outputs": [],
   "source": [
    "# 📈 Step 5: Train a Linear Regression Model\n",
    "from sklearn.linear_model import LinearRegression\n",
    "from sklearn.metrics import mean_squared_error, r2_score\n",
    "\n",
    "model = LinearRegression()\n",
    "model.fit(X_train, y_train)\n",
    "\n",
    "y_pred = model.predict(X_test)"
   ]
  },
  {
   "cell_type": "code",
   "execution_count": null,
   "id": "e6b6055c",
   "metadata": {},
   "outputs": [],
   "source": [
    "# 📊 Step 6: Evaluate the Model\n",
    "print(\"📉 Mean Squared Error:\", mean_squared_error(y_test, y_pred))\n",
    "print(\"📈 R² Score (Accuracy):\", r2_score(y_test, y_pred))\n",
    "\n",
    "plt.scatter(y_test, y_pred, alpha=0.7)\n",
    "plt.xlabel(\"Actual Sales\")\n",
    "plt.ylabel(\"Predicted Sales\")\n",
    "plt.title(\"Actual vs Predicted Sales\")\n",
    "plt.show()"
   ]
  },
  {
   "cell_type": "code",
   "execution_count": null,
   "id": "0d115818",
   "metadata": {},
   "outputs": [],
   "source": [
    "# 📦 Step 7: Predict on New Data\n",
    "new_data = pd.DataFrame([[150, 20, 10]], columns=['TV', 'Radio', 'Newspaper'])\n",
    "prediction = model.predict(new_data)\n",
    "print(\"📈 Predicted Sales:\", round(prediction[0], 2))"
   ]
  },
  {
   "cell_type": "markdown",
   "id": "e42df36c",
   "metadata": {},
   "source": [
    "## ✅ Conclusion\n\n",
    "- The model successfully predicts sales based on advertising spending.\n",
    "- TV and Radio advertising have stronger correlations with sales than Newspaper.\n",
    "- The model can be used by businesses to forecast sales and optimize ad budgets.\n\n",
    "### 🚀 Next Steps\n",
    "- Try Polynomial or Ridge Regression for improvement.\n",
    "- Perform feature engineering (e.g., interaction terms).\n",
    "- Deploy the model in a Streamlit or Flask app."
   ]
  }
 ],
 "metadata": {},
 "nbformat": 4,
 "nbformat_minor": 5
}
